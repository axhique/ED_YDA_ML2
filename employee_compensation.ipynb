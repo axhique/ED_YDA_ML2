{
  "cells": [
    {
      "cell_type": "code",
      "execution_count": 69,
      "metadata": {
        "id": "PdMCsEJawiZi"
      },
      "outputs": [],
      "source": [
        "import pandas as pd\n",
        "import numpy as np\n",
        "import seaborn as sns\n",
        "from google.colab import files\n",
        "import matplotlib.pyplot as plt\n",
        "from sklearn.preprocessing import MinMaxScaler , RobustScaler , StandardScaler\n",
        "from sklearn.neighbors import KNeighborsRegressor\n",
        "from sklearn.model_selection import train_test_split\n",
        "from sklearn.metrics import mean_absolute_error , mean_squared_error"
      ]
    },
    {
      "cell_type": "code",
      "execution_count": 2,
      "metadata": {
        "colab": {
          "base_uri": "https://localhost:8080/",
          "height": 73
        },
        "id": "ORQI8RnWxSzi",
        "outputId": "c03722e4-51ed-4d6f-e22d-fd55e918cf39"
      },
      "outputs": [
        {
          "output_type": "display_data",
          "data": {
            "text/plain": [
              "<IPython.core.display.HTML object>"
            ],
            "text/html": [
              "\n",
              "     <input type=\"file\" id=\"files-e77a09d7-7d2d-4591-a7e3-4d0d9defb004\" name=\"files[]\" multiple disabled\n",
              "        style=\"border:none\" />\n",
              "     <output id=\"result-e77a09d7-7d2d-4591-a7e3-4d0d9defb004\">\n",
              "      Upload widget is only available when the cell has been executed in the\n",
              "      current browser session. Please rerun this cell to enable.\n",
              "      </output>\n",
              "      <script>// Copyright 2017 Google LLC\n",
              "//\n",
              "// Licensed under the Apache License, Version 2.0 (the \"License\");\n",
              "// you may not use this file except in compliance with the License.\n",
              "// You may obtain a copy of the License at\n",
              "//\n",
              "//      http://www.apache.org/licenses/LICENSE-2.0\n",
              "//\n",
              "// Unless required by applicable law or agreed to in writing, software\n",
              "// distributed under the License is distributed on an \"AS IS\" BASIS,\n",
              "// WITHOUT WARRANTIES OR CONDITIONS OF ANY KIND, either express or implied.\n",
              "// See the License for the specific language governing permissions and\n",
              "// limitations under the License.\n",
              "\n",
              "/**\n",
              " * @fileoverview Helpers for google.colab Python module.\n",
              " */\n",
              "(function(scope) {\n",
              "function span(text, styleAttributes = {}) {\n",
              "  const element = document.createElement('span');\n",
              "  element.textContent = text;\n",
              "  for (const key of Object.keys(styleAttributes)) {\n",
              "    element.style[key] = styleAttributes[key];\n",
              "  }\n",
              "  return element;\n",
              "}\n",
              "\n",
              "// Max number of bytes which will be uploaded at a time.\n",
              "const MAX_PAYLOAD_SIZE = 100 * 1024;\n",
              "\n",
              "function _uploadFiles(inputId, outputId) {\n",
              "  const steps = uploadFilesStep(inputId, outputId);\n",
              "  const outputElement = document.getElementById(outputId);\n",
              "  // Cache steps on the outputElement to make it available for the next call\n",
              "  // to uploadFilesContinue from Python.\n",
              "  outputElement.steps = steps;\n",
              "\n",
              "  return _uploadFilesContinue(outputId);\n",
              "}\n",
              "\n",
              "// This is roughly an async generator (not supported in the browser yet),\n",
              "// where there are multiple asynchronous steps and the Python side is going\n",
              "// to poll for completion of each step.\n",
              "// This uses a Promise to block the python side on completion of each step,\n",
              "// then passes the result of the previous step as the input to the next step.\n",
              "function _uploadFilesContinue(outputId) {\n",
              "  const outputElement = document.getElementById(outputId);\n",
              "  const steps = outputElement.steps;\n",
              "\n",
              "  const next = steps.next(outputElement.lastPromiseValue);\n",
              "  return Promise.resolve(next.value.promise).then((value) => {\n",
              "    // Cache the last promise value to make it available to the next\n",
              "    // step of the generator.\n",
              "    outputElement.lastPromiseValue = value;\n",
              "    return next.value.response;\n",
              "  });\n",
              "}\n",
              "\n",
              "/**\n",
              " * Generator function which is called between each async step of the upload\n",
              " * process.\n",
              " * @param {string} inputId Element ID of the input file picker element.\n",
              " * @param {string} outputId Element ID of the output display.\n",
              " * @return {!Iterable<!Object>} Iterable of next steps.\n",
              " */\n",
              "function* uploadFilesStep(inputId, outputId) {\n",
              "  const inputElement = document.getElementById(inputId);\n",
              "  inputElement.disabled = false;\n",
              "\n",
              "  const outputElement = document.getElementById(outputId);\n",
              "  outputElement.innerHTML = '';\n",
              "\n",
              "  const pickedPromise = new Promise((resolve) => {\n",
              "    inputElement.addEventListener('change', (e) => {\n",
              "      resolve(e.target.files);\n",
              "    });\n",
              "  });\n",
              "\n",
              "  const cancel = document.createElement('button');\n",
              "  inputElement.parentElement.appendChild(cancel);\n",
              "  cancel.textContent = 'Cancel upload';\n",
              "  const cancelPromise = new Promise((resolve) => {\n",
              "    cancel.onclick = () => {\n",
              "      resolve(null);\n",
              "    };\n",
              "  });\n",
              "\n",
              "  // Wait for the user to pick the files.\n",
              "  const files = yield {\n",
              "    promise: Promise.race([pickedPromise, cancelPromise]),\n",
              "    response: {\n",
              "      action: 'starting',\n",
              "    }\n",
              "  };\n",
              "\n",
              "  cancel.remove();\n",
              "\n",
              "  // Disable the input element since further picks are not allowed.\n",
              "  inputElement.disabled = true;\n",
              "\n",
              "  if (!files) {\n",
              "    return {\n",
              "      response: {\n",
              "        action: 'complete',\n",
              "      }\n",
              "    };\n",
              "  }\n",
              "\n",
              "  for (const file of files) {\n",
              "    const li = document.createElement('li');\n",
              "    li.append(span(file.name, {fontWeight: 'bold'}));\n",
              "    li.append(span(\n",
              "        `(${file.type || 'n/a'}) - ${file.size} bytes, ` +\n",
              "        `last modified: ${\n",
              "            file.lastModifiedDate ? file.lastModifiedDate.toLocaleDateString() :\n",
              "                                    'n/a'} - `));\n",
              "    const percent = span('0% done');\n",
              "    li.appendChild(percent);\n",
              "\n",
              "    outputElement.appendChild(li);\n",
              "\n",
              "    const fileDataPromise = new Promise((resolve) => {\n",
              "      const reader = new FileReader();\n",
              "      reader.onload = (e) => {\n",
              "        resolve(e.target.result);\n",
              "      };\n",
              "      reader.readAsArrayBuffer(file);\n",
              "    });\n",
              "    // Wait for the data to be ready.\n",
              "    let fileData = yield {\n",
              "      promise: fileDataPromise,\n",
              "      response: {\n",
              "        action: 'continue',\n",
              "      }\n",
              "    };\n",
              "\n",
              "    // Use a chunked sending to avoid message size limits. See b/62115660.\n",
              "    let position = 0;\n",
              "    do {\n",
              "      const length = Math.min(fileData.byteLength - position, MAX_PAYLOAD_SIZE);\n",
              "      const chunk = new Uint8Array(fileData, position, length);\n",
              "      position += length;\n",
              "\n",
              "      const base64 = btoa(String.fromCharCode.apply(null, chunk));\n",
              "      yield {\n",
              "        response: {\n",
              "          action: 'append',\n",
              "          file: file.name,\n",
              "          data: base64,\n",
              "        },\n",
              "      };\n",
              "\n",
              "      let percentDone = fileData.byteLength === 0 ?\n",
              "          100 :\n",
              "          Math.round((position / fileData.byteLength) * 100);\n",
              "      percent.textContent = `${percentDone}% done`;\n",
              "\n",
              "    } while (position < fileData.byteLength);\n",
              "  }\n",
              "\n",
              "  // All done.\n",
              "  yield {\n",
              "    response: {\n",
              "      action: 'complete',\n",
              "    }\n",
              "  };\n",
              "}\n",
              "\n",
              "scope.google = scope.google || {};\n",
              "scope.google.colab = scope.google.colab || {};\n",
              "scope.google.colab._files = {\n",
              "  _uploadFiles,\n",
              "  _uploadFilesContinue,\n",
              "};\n",
              "})(self);\n",
              "</script> "
            ]
          },
          "metadata": {}
        },
        {
          "output_type": "stream",
          "name": "stdout",
          "text": [
            "Saving train_set.csv to train_set.csv\n"
          ]
        }
      ],
      "source": [
        "files.upload()"
      ]
    },
    {
      "cell_type": "code",
      "execution_count": 38,
      "metadata": {
        "colab": {
          "base_uri": "https://localhost:8080/",
          "height": 478
        },
        "id": "RKNIIrkdw6vP",
        "outputId": "bae36021-23c9-4c2d-8da4-c3be315fd1e0"
      },
      "outputs": [
        {
          "output_type": "execute_result",
          "data": {
            "text/plain": [
              "   Year  OGC                                       OG   DC               Dept  \\\n",
              "0  2015    4                         Community Health  DPH      Public Health   \n",
              "1  2013    4                         Community Health  DPH      Public Health   \n",
              "2  2015    6         General Administration & Finance  ASR  Assessor/Recorder   \n",
              "3  2016    1                        Public Protection  POL             Police   \n",
              "4  2013    2  Public Works, Transportation & Commerce  HHP   PUC Hetch Hetchy   \n",
              "\n",
              "    UC                                            Union  \\\n",
              "0  250                SEIU - Health Workers, Local 1021   \n",
              "1   39                   Stationary Engineers, Local 39   \n",
              "2   21  Prof & Tech Engineers - Miscellaneous, Local 21   \n",
              "3  911                     Police Officers' Association   \n",
              "4   21  Prof & Tech Engineers - Miscellaneous, Local 21   \n",
              "\n",
              "                        JF                             Job     EI  Salaries  \\\n",
              "0  Med Therapy & Auxiliary                Morgue Attendant   6725     12196   \n",
              "1         Journeyman Trade             Stationary Engineer  25058     74639   \n",
              "2     Appraisal & Taxation  Senior Real Property Appraiser  46108    100554   \n",
              "3          Police Services                      Sergeant 3  33369    140164   \n",
              "4      Information Systems             IS Engineer-Journey  28684     58813   \n",
              "\n",
              "   Overtime       H/D        YT  Total_Compensation  \n",
              "0         0      0.00  Calendar               16158  \n",
              "1      2820  12703.31    Fiscal              115784  \n",
              "2         0  12424.50  Calendar              144708  \n",
              "3     52754  13043.87    Fiscal              242323  \n",
              "4         0   7655.28  Calendar               82106  "
            ],
            "text/html": [
              "\n",
              "\n",
              "  <div id=\"df-392912b9-2ad6-4952-a15f-ce88065f9060\">\n",
              "    <div class=\"colab-df-container\">\n",
              "      <div>\n",
              "<style scoped>\n",
              "    .dataframe tbody tr th:only-of-type {\n",
              "        vertical-align: middle;\n",
              "    }\n",
              "\n",
              "    .dataframe tbody tr th {\n",
              "        vertical-align: top;\n",
              "    }\n",
              "\n",
              "    .dataframe thead th {\n",
              "        text-align: right;\n",
              "    }\n",
              "</style>\n",
              "<table border=\"1\" class=\"dataframe\">\n",
              "  <thead>\n",
              "    <tr style=\"text-align: right;\">\n",
              "      <th></th>\n",
              "      <th>Year</th>\n",
              "      <th>OGC</th>\n",
              "      <th>OG</th>\n",
              "      <th>DC</th>\n",
              "      <th>Dept</th>\n",
              "      <th>UC</th>\n",
              "      <th>Union</th>\n",
              "      <th>JF</th>\n",
              "      <th>Job</th>\n",
              "      <th>EI</th>\n",
              "      <th>Salaries</th>\n",
              "      <th>Overtime</th>\n",
              "      <th>H/D</th>\n",
              "      <th>YT</th>\n",
              "      <th>Total_Compensation</th>\n",
              "    </tr>\n",
              "  </thead>\n",
              "  <tbody>\n",
              "    <tr>\n",
              "      <th>0</th>\n",
              "      <td>2015</td>\n",
              "      <td>4</td>\n",
              "      <td>Community Health</td>\n",
              "      <td>DPH</td>\n",
              "      <td>Public Health</td>\n",
              "      <td>250</td>\n",
              "      <td>SEIU - Health Workers, Local 1021</td>\n",
              "      <td>Med Therapy &amp; Auxiliary</td>\n",
              "      <td>Morgue Attendant</td>\n",
              "      <td>6725</td>\n",
              "      <td>12196</td>\n",
              "      <td>0</td>\n",
              "      <td>0.00</td>\n",
              "      <td>Calendar</td>\n",
              "      <td>16158</td>\n",
              "    </tr>\n",
              "    <tr>\n",
              "      <th>1</th>\n",
              "      <td>2013</td>\n",
              "      <td>4</td>\n",
              "      <td>Community Health</td>\n",
              "      <td>DPH</td>\n",
              "      <td>Public Health</td>\n",
              "      <td>39</td>\n",
              "      <td>Stationary Engineers, Local 39</td>\n",
              "      <td>Journeyman Trade</td>\n",
              "      <td>Stationary Engineer</td>\n",
              "      <td>25058</td>\n",
              "      <td>74639</td>\n",
              "      <td>2820</td>\n",
              "      <td>12703.31</td>\n",
              "      <td>Fiscal</td>\n",
              "      <td>115784</td>\n",
              "    </tr>\n",
              "    <tr>\n",
              "      <th>2</th>\n",
              "      <td>2015</td>\n",
              "      <td>6</td>\n",
              "      <td>General Administration &amp; Finance</td>\n",
              "      <td>ASR</td>\n",
              "      <td>Assessor/Recorder</td>\n",
              "      <td>21</td>\n",
              "      <td>Prof &amp; Tech Engineers - Miscellaneous, Local 21</td>\n",
              "      <td>Appraisal &amp; Taxation</td>\n",
              "      <td>Senior Real Property Appraiser</td>\n",
              "      <td>46108</td>\n",
              "      <td>100554</td>\n",
              "      <td>0</td>\n",
              "      <td>12424.50</td>\n",
              "      <td>Calendar</td>\n",
              "      <td>144708</td>\n",
              "    </tr>\n",
              "    <tr>\n",
              "      <th>3</th>\n",
              "      <td>2016</td>\n",
              "      <td>1</td>\n",
              "      <td>Public Protection</td>\n",
              "      <td>POL</td>\n",
              "      <td>Police</td>\n",
              "      <td>911</td>\n",
              "      <td>Police Officers' Association</td>\n",
              "      <td>Police Services</td>\n",
              "      <td>Sergeant 3</td>\n",
              "      <td>33369</td>\n",
              "      <td>140164</td>\n",
              "      <td>52754</td>\n",
              "      <td>13043.87</td>\n",
              "      <td>Fiscal</td>\n",
              "      <td>242323</td>\n",
              "    </tr>\n",
              "    <tr>\n",
              "      <th>4</th>\n",
              "      <td>2013</td>\n",
              "      <td>2</td>\n",
              "      <td>Public Works, Transportation &amp; Commerce</td>\n",
              "      <td>HHP</td>\n",
              "      <td>PUC Hetch Hetchy</td>\n",
              "      <td>21</td>\n",
              "      <td>Prof &amp; Tech Engineers - Miscellaneous, Local 21</td>\n",
              "      <td>Information Systems</td>\n",
              "      <td>IS Engineer-Journey</td>\n",
              "      <td>28684</td>\n",
              "      <td>58813</td>\n",
              "      <td>0</td>\n",
              "      <td>7655.28</td>\n",
              "      <td>Calendar</td>\n",
              "      <td>82106</td>\n",
              "    </tr>\n",
              "  </tbody>\n",
              "</table>\n",
              "</div>\n",
              "      <button class=\"colab-df-convert\" onclick=\"convertToInteractive('df-392912b9-2ad6-4952-a15f-ce88065f9060')\"\n",
              "              title=\"Convert this dataframe to an interactive table.\"\n",
              "              style=\"display:none;\">\n",
              "\n",
              "  <svg xmlns=\"http://www.w3.org/2000/svg\" height=\"24px\"viewBox=\"0 0 24 24\"\n",
              "       width=\"24px\">\n",
              "    <path d=\"M0 0h24v24H0V0z\" fill=\"none\"/>\n",
              "    <path d=\"M18.56 5.44l.94 2.06.94-2.06 2.06-.94-2.06-.94-.94-2.06-.94 2.06-2.06.94zm-11 1L8.5 8.5l.94-2.06 2.06-.94-2.06-.94L8.5 2.5l-.94 2.06-2.06.94zm10 10l.94 2.06.94-2.06 2.06-.94-2.06-.94-.94-2.06-.94 2.06-2.06.94z\"/><path d=\"M17.41 7.96l-1.37-1.37c-.4-.4-.92-.59-1.43-.59-.52 0-1.04.2-1.43.59L10.3 9.45l-7.72 7.72c-.78.78-.78 2.05 0 2.83L4 21.41c.39.39.9.59 1.41.59.51 0 1.02-.2 1.41-.59l7.78-7.78 2.81-2.81c.8-.78.8-2.07 0-2.86zM5.41 20L4 18.59l7.72-7.72 1.47 1.35L5.41 20z\"/>\n",
              "  </svg>\n",
              "      </button>\n",
              "\n",
              "\n",
              "\n",
              "    <div id=\"df-6d51e3ac-89e6-4dec-aa75-ff718eda8ea7\">\n",
              "      <button class=\"colab-df-quickchart\" onclick=\"quickchart('df-6d51e3ac-89e6-4dec-aa75-ff718eda8ea7')\"\n",
              "              title=\"Suggest charts.\"\n",
              "              style=\"display:none;\">\n",
              "\n",
              "<svg xmlns=\"http://www.w3.org/2000/svg\" height=\"24px\"viewBox=\"0 0 24 24\"\n",
              "     width=\"24px\">\n",
              "    <g>\n",
              "        <path d=\"M19 3H5c-1.1 0-2 .9-2 2v14c0 1.1.9 2 2 2h14c1.1 0 2-.9 2-2V5c0-1.1-.9-2-2-2zM9 17H7v-7h2v7zm4 0h-2V7h2v10zm4 0h-2v-4h2v4z\"/>\n",
              "    </g>\n",
              "</svg>\n",
              "      </button>\n",
              "    </div>\n",
              "\n",
              "<style>\n",
              "  .colab-df-quickchart {\n",
              "    background-color: #E8F0FE;\n",
              "    border: none;\n",
              "    border-radius: 50%;\n",
              "    cursor: pointer;\n",
              "    display: none;\n",
              "    fill: #1967D2;\n",
              "    height: 32px;\n",
              "    padding: 0 0 0 0;\n",
              "    width: 32px;\n",
              "  }\n",
              "\n",
              "  .colab-df-quickchart:hover {\n",
              "    background-color: #E2EBFA;\n",
              "    box-shadow: 0px 1px 2px rgba(60, 64, 67, 0.3), 0px 1px 3px 1px rgba(60, 64, 67, 0.15);\n",
              "    fill: #174EA6;\n",
              "  }\n",
              "\n",
              "  [theme=dark] .colab-df-quickchart {\n",
              "    background-color: #3B4455;\n",
              "    fill: #D2E3FC;\n",
              "  }\n",
              "\n",
              "  [theme=dark] .colab-df-quickchart:hover {\n",
              "    background-color: #434B5C;\n",
              "    box-shadow: 0px 1px 3px 1px rgba(0, 0, 0, 0.15);\n",
              "    filter: drop-shadow(0px 1px 2px rgba(0, 0, 0, 0.3));\n",
              "    fill: #FFFFFF;\n",
              "  }\n",
              "</style>\n",
              "\n",
              "    <script>\n",
              "      async function quickchart(key) {\n",
              "        const containerElement = document.querySelector('#' + key);\n",
              "        const charts = await google.colab.kernel.invokeFunction(\n",
              "            'suggestCharts', [key], {});\n",
              "      }\n",
              "    </script>\n",
              "\n",
              "      <script>\n",
              "\n",
              "function displayQuickchartButton(domScope) {\n",
              "  let quickchartButtonEl =\n",
              "    domScope.querySelector('#df-6d51e3ac-89e6-4dec-aa75-ff718eda8ea7 button.colab-df-quickchart');\n",
              "  quickchartButtonEl.style.display =\n",
              "    google.colab.kernel.accessAllowed ? 'block' : 'none';\n",
              "}\n",
              "\n",
              "        displayQuickchartButton(document);\n",
              "      </script>\n",
              "      <style>\n",
              "    .colab-df-container {\n",
              "      display:flex;\n",
              "      flex-wrap:wrap;\n",
              "      gap: 12px;\n",
              "    }\n",
              "\n",
              "    .colab-df-convert {\n",
              "      background-color: #E8F0FE;\n",
              "      border: none;\n",
              "      border-radius: 50%;\n",
              "      cursor: pointer;\n",
              "      display: none;\n",
              "      fill: #1967D2;\n",
              "      height: 32px;\n",
              "      padding: 0 0 0 0;\n",
              "      width: 32px;\n",
              "    }\n",
              "\n",
              "    .colab-df-convert:hover {\n",
              "      background-color: #E2EBFA;\n",
              "      box-shadow: 0px 1px 2px rgba(60, 64, 67, 0.3), 0px 1px 3px 1px rgba(60, 64, 67, 0.15);\n",
              "      fill: #174EA6;\n",
              "    }\n",
              "\n",
              "    [theme=dark] .colab-df-convert {\n",
              "      background-color: #3B4455;\n",
              "      fill: #D2E3FC;\n",
              "    }\n",
              "\n",
              "    [theme=dark] .colab-df-convert:hover {\n",
              "      background-color: #434B5C;\n",
              "      box-shadow: 0px 1px 3px 1px rgba(0, 0, 0, 0.15);\n",
              "      filter: drop-shadow(0px 1px 2px rgba(0, 0, 0, 0.3));\n",
              "      fill: #FFFFFF;\n",
              "    }\n",
              "  </style>\n",
              "\n",
              "      <script>\n",
              "        const buttonEl =\n",
              "          document.querySelector('#df-392912b9-2ad6-4952-a15f-ce88065f9060 button.colab-df-convert');\n",
              "        buttonEl.style.display =\n",
              "          google.colab.kernel.accessAllowed ? 'block' : 'none';\n",
              "\n",
              "        async function convertToInteractive(key) {\n",
              "          const element = document.querySelector('#df-392912b9-2ad6-4952-a15f-ce88065f9060');\n",
              "          const dataTable =\n",
              "            await google.colab.kernel.invokeFunction('convertToInteractive',\n",
              "                                                     [key], {});\n",
              "          if (!dataTable) return;\n",
              "\n",
              "          const docLinkHtml = 'Like what you see? Visit the ' +\n",
              "            '<a target=\"_blank\" href=https://colab.research.google.com/notebooks/data_table.ipynb>data table notebook</a>'\n",
              "            + ' to learn more about interactive tables.';\n",
              "          element.innerHTML = '';\n",
              "          dataTable['output_type'] = 'display_data';\n",
              "          await google.colab.output.renderOutput(dataTable, element);\n",
              "          const docLink = document.createElement('div');\n",
              "          docLink.innerHTML = docLinkHtml;\n",
              "          element.appendChild(docLink);\n",
              "        }\n",
              "      </script>\n",
              "    </div>\n",
              "  </div>\n"
            ]
          },
          "metadata": {},
          "execution_count": 38
        }
      ],
      "source": [
        "df=pd.read_csv('train_set.csv')\n",
        "df.head()"
      ]
    },
    {
      "cell_type": "code",
      "execution_count": 4,
      "metadata": {
        "colab": {
          "base_uri": "https://localhost:8080/"
        },
        "id": "lGEUcquL3sBP",
        "outputId": "7104374a-4ad6-4bdd-f209-4e8f40a2cecf"
      },
      "outputs": [
        {
          "output_type": "execute_result",
          "data": {
            "text/plain": [
              "(287836, 15)"
            ]
          },
          "metadata": {},
          "execution_count": 4
        }
      ],
      "source": [
        "df.shape"
      ]
    },
    {
      "cell_type": "code",
      "execution_count": 5,
      "metadata": {
        "colab": {
          "base_uri": "https://localhost:8080/"
        },
        "id": "CmGugrWGxHB7",
        "outputId": "9013e3f5-70ae-4584-da71-472a0aa63075"
      },
      "outputs": [
        {
          "output_type": "stream",
          "name": "stdout",
          "text": [
            "<class 'pandas.core.frame.DataFrame'>\n",
            "RangeIndex: 287836 entries, 0 to 287835\n",
            "Data columns (total 15 columns):\n",
            " #   Column              Non-Null Count   Dtype  \n",
            "---  ------              --------------   -----  \n",
            " 0   Year                287836 non-null  int64  \n",
            " 1   OGC                 287836 non-null  int64  \n",
            " 2   OG                  287836 non-null  object \n",
            " 3   DC                  287836 non-null  object \n",
            " 4   Dept                287836 non-null  object \n",
            " 5   UC                  287836 non-null  int64  \n",
            " 6   Union               287800 non-null  object \n",
            " 7   JF                  287798 non-null  object \n",
            " 8   Job                 287836 non-null  object \n",
            " 9   EI                  287836 non-null  int64  \n",
            " 10  Salaries            287836 non-null  int64  \n",
            " 11  Overtime            287836 non-null  int64  \n",
            " 12  H/D                 287836 non-null  float64\n",
            " 13  YT                  287836 non-null  object \n",
            " 14  Total_Compensation  287836 non-null  int64  \n",
            "dtypes: float64(1), int64(7), object(7)\n",
            "memory usage: 32.9+ MB\n"
          ]
        }
      ],
      "source": [
        "df.info()"
      ]
    },
    {
      "cell_type": "code",
      "execution_count": 6,
      "metadata": {
        "colab": {
          "base_uri": "https://localhost:8080/",
          "height": 300
        },
        "id": "R79J32AkMA2k",
        "outputId": "a87cb858-3534-49ed-8963-f80827c90a67"
      },
      "outputs": [
        {
          "output_type": "execute_result",
          "data": {
            "text/plain": [
              "                Year            OGC             UC             EI  \\\n",
              "count  287836.000000  287836.000000  287836.000000  287836.000000   \n",
              "mean     2014.250104       2.976007     490.540186   26913.060020   \n",
              "std         1.016282       1.575586     333.238723   15539.719696   \n",
              "min      2013.000000       1.000000       1.000000       1.000000   \n",
              "25%      2013.000000       2.000000     236.000000   13434.000000   \n",
              "50%      2014.000000       2.000000     535.000000   27013.000000   \n",
              "75%      2015.000000       4.000000     790.000000   40397.250000   \n",
              "max      2016.000000       7.000000     990.000000   53794.000000   \n",
              "\n",
              "            Salaries       Overtime            H/D  Total_Compensation  \n",
              "count  287836.000000  287836.000000  287836.000000       287836.000000  \n",
              "mean    63262.713139    4401.037115    8932.876472        97990.329882  \n",
              "std     44638.657748   11079.137749    4894.072024        67750.020573  \n",
              "min    -68771.000000  -12308.000000   -2940.470000       -74082.000000  \n",
              "25%     23406.000000       0.000000    4358.347500        35977.000000  \n",
              "50%     62504.500000       0.000000   11982.035000        98033.000000  \n",
              "75%     93000.250000    2738.000000   12801.790000       142138.250000  \n",
              "max    515101.000000  227313.000000   21872.800000       653498.000000  "
            ],
            "text/html": [
              "\n",
              "\n",
              "  <div id=\"df-958a6563-9718-4b96-a0b6-d948b44d8a02\">\n",
              "    <div class=\"colab-df-container\">\n",
              "      <div>\n",
              "<style scoped>\n",
              "    .dataframe tbody tr th:only-of-type {\n",
              "        vertical-align: middle;\n",
              "    }\n",
              "\n",
              "    .dataframe tbody tr th {\n",
              "        vertical-align: top;\n",
              "    }\n",
              "\n",
              "    .dataframe thead th {\n",
              "        text-align: right;\n",
              "    }\n",
              "</style>\n",
              "<table border=\"1\" class=\"dataframe\">\n",
              "  <thead>\n",
              "    <tr style=\"text-align: right;\">\n",
              "      <th></th>\n",
              "      <th>Year</th>\n",
              "      <th>OGC</th>\n",
              "      <th>UC</th>\n",
              "      <th>EI</th>\n",
              "      <th>Salaries</th>\n",
              "      <th>Overtime</th>\n",
              "      <th>H/D</th>\n",
              "      <th>Total_Compensation</th>\n",
              "    </tr>\n",
              "  </thead>\n",
              "  <tbody>\n",
              "    <tr>\n",
              "      <th>count</th>\n",
              "      <td>287836.000000</td>\n",
              "      <td>287836.000000</td>\n",
              "      <td>287836.000000</td>\n",
              "      <td>287836.000000</td>\n",
              "      <td>287836.000000</td>\n",
              "      <td>287836.000000</td>\n",
              "      <td>287836.000000</td>\n",
              "      <td>287836.000000</td>\n",
              "    </tr>\n",
              "    <tr>\n",
              "      <th>mean</th>\n",
              "      <td>2014.250104</td>\n",
              "      <td>2.976007</td>\n",
              "      <td>490.540186</td>\n",
              "      <td>26913.060020</td>\n",
              "      <td>63262.713139</td>\n",
              "      <td>4401.037115</td>\n",
              "      <td>8932.876472</td>\n",
              "      <td>97990.329882</td>\n",
              "    </tr>\n",
              "    <tr>\n",
              "      <th>std</th>\n",
              "      <td>1.016282</td>\n",
              "      <td>1.575586</td>\n",
              "      <td>333.238723</td>\n",
              "      <td>15539.719696</td>\n",
              "      <td>44638.657748</td>\n",
              "      <td>11079.137749</td>\n",
              "      <td>4894.072024</td>\n",
              "      <td>67750.020573</td>\n",
              "    </tr>\n",
              "    <tr>\n",
              "      <th>min</th>\n",
              "      <td>2013.000000</td>\n",
              "      <td>1.000000</td>\n",
              "      <td>1.000000</td>\n",
              "      <td>1.000000</td>\n",
              "      <td>-68771.000000</td>\n",
              "      <td>-12308.000000</td>\n",
              "      <td>-2940.470000</td>\n",
              "      <td>-74082.000000</td>\n",
              "    </tr>\n",
              "    <tr>\n",
              "      <th>25%</th>\n",
              "      <td>2013.000000</td>\n",
              "      <td>2.000000</td>\n",
              "      <td>236.000000</td>\n",
              "      <td>13434.000000</td>\n",
              "      <td>23406.000000</td>\n",
              "      <td>0.000000</td>\n",
              "      <td>4358.347500</td>\n",
              "      <td>35977.000000</td>\n",
              "    </tr>\n",
              "    <tr>\n",
              "      <th>50%</th>\n",
              "      <td>2014.000000</td>\n",
              "      <td>2.000000</td>\n",
              "      <td>535.000000</td>\n",
              "      <td>27013.000000</td>\n",
              "      <td>62504.500000</td>\n",
              "      <td>0.000000</td>\n",
              "      <td>11982.035000</td>\n",
              "      <td>98033.000000</td>\n",
              "    </tr>\n",
              "    <tr>\n",
              "      <th>75%</th>\n",
              "      <td>2015.000000</td>\n",
              "      <td>4.000000</td>\n",
              "      <td>790.000000</td>\n",
              "      <td>40397.250000</td>\n",
              "      <td>93000.250000</td>\n",
              "      <td>2738.000000</td>\n",
              "      <td>12801.790000</td>\n",
              "      <td>142138.250000</td>\n",
              "    </tr>\n",
              "    <tr>\n",
              "      <th>max</th>\n",
              "      <td>2016.000000</td>\n",
              "      <td>7.000000</td>\n",
              "      <td>990.000000</td>\n",
              "      <td>53794.000000</td>\n",
              "      <td>515101.000000</td>\n",
              "      <td>227313.000000</td>\n",
              "      <td>21872.800000</td>\n",
              "      <td>653498.000000</td>\n",
              "    </tr>\n",
              "  </tbody>\n",
              "</table>\n",
              "</div>\n",
              "      <button class=\"colab-df-convert\" onclick=\"convertToInteractive('df-958a6563-9718-4b96-a0b6-d948b44d8a02')\"\n",
              "              title=\"Convert this dataframe to an interactive table.\"\n",
              "              style=\"display:none;\">\n",
              "\n",
              "  <svg xmlns=\"http://www.w3.org/2000/svg\" height=\"24px\"viewBox=\"0 0 24 24\"\n",
              "       width=\"24px\">\n",
              "    <path d=\"M0 0h24v24H0V0z\" fill=\"none\"/>\n",
              "    <path d=\"M18.56 5.44l.94 2.06.94-2.06 2.06-.94-2.06-.94-.94-2.06-.94 2.06-2.06.94zm-11 1L8.5 8.5l.94-2.06 2.06-.94-2.06-.94L8.5 2.5l-.94 2.06-2.06.94zm10 10l.94 2.06.94-2.06 2.06-.94-2.06-.94-.94-2.06-.94 2.06-2.06.94z\"/><path d=\"M17.41 7.96l-1.37-1.37c-.4-.4-.92-.59-1.43-.59-.52 0-1.04.2-1.43.59L10.3 9.45l-7.72 7.72c-.78.78-.78 2.05 0 2.83L4 21.41c.39.39.9.59 1.41.59.51 0 1.02-.2 1.41-.59l7.78-7.78 2.81-2.81c.8-.78.8-2.07 0-2.86zM5.41 20L4 18.59l7.72-7.72 1.47 1.35L5.41 20z\"/>\n",
              "  </svg>\n",
              "      </button>\n",
              "\n",
              "\n",
              "\n",
              "    <div id=\"df-60d2d1cb-b03a-4c98-a824-6920335039fd\">\n",
              "      <button class=\"colab-df-quickchart\" onclick=\"quickchart('df-60d2d1cb-b03a-4c98-a824-6920335039fd')\"\n",
              "              title=\"Suggest charts.\"\n",
              "              style=\"display:none;\">\n",
              "\n",
              "<svg xmlns=\"http://www.w3.org/2000/svg\" height=\"24px\"viewBox=\"0 0 24 24\"\n",
              "     width=\"24px\">\n",
              "    <g>\n",
              "        <path d=\"M19 3H5c-1.1 0-2 .9-2 2v14c0 1.1.9 2 2 2h14c1.1 0 2-.9 2-2V5c0-1.1-.9-2-2-2zM9 17H7v-7h2v7zm4 0h-2V7h2v10zm4 0h-2v-4h2v4z\"/>\n",
              "    </g>\n",
              "</svg>\n",
              "      </button>\n",
              "    </div>\n",
              "\n",
              "<style>\n",
              "  .colab-df-quickchart {\n",
              "    background-color: #E8F0FE;\n",
              "    border: none;\n",
              "    border-radius: 50%;\n",
              "    cursor: pointer;\n",
              "    display: none;\n",
              "    fill: #1967D2;\n",
              "    height: 32px;\n",
              "    padding: 0 0 0 0;\n",
              "    width: 32px;\n",
              "  }\n",
              "\n",
              "  .colab-df-quickchart:hover {\n",
              "    background-color: #E2EBFA;\n",
              "    box-shadow: 0px 1px 2px rgba(60, 64, 67, 0.3), 0px 1px 3px 1px rgba(60, 64, 67, 0.15);\n",
              "    fill: #174EA6;\n",
              "  }\n",
              "\n",
              "  [theme=dark] .colab-df-quickchart {\n",
              "    background-color: #3B4455;\n",
              "    fill: #D2E3FC;\n",
              "  }\n",
              "\n",
              "  [theme=dark] .colab-df-quickchart:hover {\n",
              "    background-color: #434B5C;\n",
              "    box-shadow: 0px 1px 3px 1px rgba(0, 0, 0, 0.15);\n",
              "    filter: drop-shadow(0px 1px 2px rgba(0, 0, 0, 0.3));\n",
              "    fill: #FFFFFF;\n",
              "  }\n",
              "</style>\n",
              "\n",
              "    <script>\n",
              "      async function quickchart(key) {\n",
              "        const containerElement = document.querySelector('#' + key);\n",
              "        const charts = await google.colab.kernel.invokeFunction(\n",
              "            'suggestCharts', [key], {});\n",
              "      }\n",
              "    </script>\n",
              "\n",
              "      <script>\n",
              "\n",
              "function displayQuickchartButton(domScope) {\n",
              "  let quickchartButtonEl =\n",
              "    domScope.querySelector('#df-60d2d1cb-b03a-4c98-a824-6920335039fd button.colab-df-quickchart');\n",
              "  quickchartButtonEl.style.display =\n",
              "    google.colab.kernel.accessAllowed ? 'block' : 'none';\n",
              "}\n",
              "\n",
              "        displayQuickchartButton(document);\n",
              "      </script>\n",
              "      <style>\n",
              "    .colab-df-container {\n",
              "      display:flex;\n",
              "      flex-wrap:wrap;\n",
              "      gap: 12px;\n",
              "    }\n",
              "\n",
              "    .colab-df-convert {\n",
              "      background-color: #E8F0FE;\n",
              "      border: none;\n",
              "      border-radius: 50%;\n",
              "      cursor: pointer;\n",
              "      display: none;\n",
              "      fill: #1967D2;\n",
              "      height: 32px;\n",
              "      padding: 0 0 0 0;\n",
              "      width: 32px;\n",
              "    }\n",
              "\n",
              "    .colab-df-convert:hover {\n",
              "      background-color: #E2EBFA;\n",
              "      box-shadow: 0px 1px 2px rgba(60, 64, 67, 0.3), 0px 1px 3px 1px rgba(60, 64, 67, 0.15);\n",
              "      fill: #174EA6;\n",
              "    }\n",
              "\n",
              "    [theme=dark] .colab-df-convert {\n",
              "      background-color: #3B4455;\n",
              "      fill: #D2E3FC;\n",
              "    }\n",
              "\n",
              "    [theme=dark] .colab-df-convert:hover {\n",
              "      background-color: #434B5C;\n",
              "      box-shadow: 0px 1px 3px 1px rgba(0, 0, 0, 0.15);\n",
              "      filter: drop-shadow(0px 1px 2px rgba(0, 0, 0, 0.3));\n",
              "      fill: #FFFFFF;\n",
              "    }\n",
              "  </style>\n",
              "\n",
              "      <script>\n",
              "        const buttonEl =\n",
              "          document.querySelector('#df-958a6563-9718-4b96-a0b6-d948b44d8a02 button.colab-df-convert');\n",
              "        buttonEl.style.display =\n",
              "          google.colab.kernel.accessAllowed ? 'block' : 'none';\n",
              "\n",
              "        async function convertToInteractive(key) {\n",
              "          const element = document.querySelector('#df-958a6563-9718-4b96-a0b6-d948b44d8a02');\n",
              "          const dataTable =\n",
              "            await google.colab.kernel.invokeFunction('convertToInteractive',\n",
              "                                                     [key], {});\n",
              "          if (!dataTable) return;\n",
              "\n",
              "          const docLinkHtml = 'Like what you see? Visit the ' +\n",
              "            '<a target=\"_blank\" href=https://colab.research.google.com/notebooks/data_table.ipynb>data table notebook</a>'\n",
              "            + ' to learn more about interactive tables.';\n",
              "          element.innerHTML = '';\n",
              "          dataTable['output_type'] = 'display_data';\n",
              "          await google.colab.output.renderOutput(dataTable, element);\n",
              "          const docLink = document.createElement('div');\n",
              "          docLink.innerHTML = docLinkHtml;\n",
              "          element.appendChild(docLink);\n",
              "        }\n",
              "      </script>\n",
              "    </div>\n",
              "  </div>\n"
            ]
          },
          "metadata": {},
          "execution_count": 6
        }
      ],
      "source": [
        "df.describe()"
      ]
    },
    {
      "cell_type": "code",
      "execution_count": 7,
      "metadata": {
        "colab": {
          "base_uri": "https://localhost:8080/"
        },
        "id": "l8TU90c-1Xbw",
        "outputId": "8ae4ed06-1253-4b7d-87a8-89735af31272"
      },
      "outputs": [
        {
          "output_type": "execute_result",
          "data": {
            "text/plain": [
              "Year                   0\n",
              "OGC                    0\n",
              "OG                     0\n",
              "DC                     0\n",
              "Dept                   0\n",
              "UC                     0\n",
              "Union                 36\n",
              "JF                    38\n",
              "Job                    0\n",
              "EI                     0\n",
              "Salaries               0\n",
              "Overtime               0\n",
              "H/D                    0\n",
              "YT                     0\n",
              "Total_Compensation     0\n",
              "dtype: int64"
            ]
          },
          "metadata": {},
          "execution_count": 7
        }
      ],
      "source": [
        "df.isnull().sum()"
      ]
    },
    {
      "cell_type": "code",
      "execution_count": 39,
      "metadata": {
        "id": "fmdBlez4145X"
      },
      "outputs": [],
      "source": [
        "df=df.dropna()"
      ]
    },
    {
      "cell_type": "code",
      "execution_count": 40,
      "metadata": {
        "colab": {
          "base_uri": "https://localhost:8080/",
          "height": 449
        },
        "id": "DvuK-qH5Kw-b",
        "outputId": "cafcb99e-1eb3-402c-bc4a-10a18c9971c1"
      },
      "outputs": [
        {
          "output_type": "display_data",
          "data": {
            "text/plain": [
              "<Figure size 640x480 with 1 Axes>"
            ],
            "image/png": "[encoded data removed]"
          },
          "metadata": {}
        }
      ],
      "source": [
        "sns.histplot(df['Salaries'], label='salaries',kde=True)\n",
        "sns.histplot(df['Total_Compensation'],label='total compensation',kde=True)\n",
        "plt.legend()\n",
        "plt.show()"
      ]
    },
    {
      "cell_type": "code",
      "execution_count": 41,
      "metadata": {
        "colab": {
          "base_uri": "https://localhost:8080/"
        },
        "id": "EPgjKYYILkzw",
        "outputId": "8dc3d31d-e1ef-448f-8bbc-947bfcdf310e"
      },
      "outputs": [
        {
          "output_type": "execute_result",
          "data": {
            "text/plain": [
              "(184289.0, 266281.1799999998)"
            ]
          },
          "metadata": {},
          "execution_count": 41
        }
      ],
      "source": [
        "sal_ot=np.percentile(df['Salaries'],99)\n",
        "tc_ot=np.percentile(df['Total_Compensation'],99)\n",
        "sal_ot,tc_ot"
      ]
    },
    {
      "cell_type": "code",
      "execution_count": 42,
      "metadata": {
        "colab": {
          "base_uri": "https://localhost:8080/"
        },
        "id": "rQ2ZwGMDS8G-",
        "outputId": "2b2972a3-41b0-4994-d9b0-48730749f4bb"
      },
      "outputs": [
        {
          "output_type": "execute_result",
          "data": {
            "text/plain": [
              "(0.0, 415.0)"
            ]
          },
          "metadata": {},
          "execution_count": 42
        }
      ],
      "source": [
        "sal_oto=np.percentile(df['Salaries'],1)\n",
        "tc_oto=np.percentile(df['Total_Compensation'],1)\n",
        "sal_oto,tc_oto"
      ]
    },
    {
      "cell_type": "code",
      "execution_count": 43,
      "metadata": {
        "id": "3U3feQm3TKBG"
      },
      "outputs": [],
      "source": [
        "df.drop(df[(df['Salaries'].values<sal_oto) | (df['Total_Compensation'].values<tc_oto)].index , inplace =True)"
      ]
    },
    {
      "cell_type": "code",
      "execution_count": 44,
      "metadata": {
        "id": "kOYwWsKAPKkj"
      },
      "outputs": [],
      "source": [
        "df.drop(df[(df['Salaries'].values>sal_ot) | (df['Total_Compensation'].values>tc_ot)].index , inplace =True)"
      ]
    },
    {
      "cell_type": "code",
      "execution_count": 45,
      "metadata": {
        "colab": {
          "base_uri": "https://localhost:8080/",
          "height": 449
        },
        "id": "7JKnbFxaPZiC",
        "outputId": "adc8e4cd-8c69-4d67-e3da-4b3b7eb1852e"
      },
      "outputs": [
        {
          "output_type": "display_data",
          "data": {
            "text/plain": [
              "<Figure size 640x480 with 1 Axes>"
            ],
            "image/png": "[encoded data removed]"
          },
          "metadata": {}
        }
      ],
      "source": [
        "sns.histplot(df['Salaries'], label='salaries',kde=True)\n",
        "sns.histplot(df['Total_Compensation'],label='total compensation',kde=True)\n",
        "plt.legend()\n",
        "plt.show()"
      ]
    },
    {
      "cell_type": "code",
      "execution_count": 46,
      "metadata": {
        "colab": {
          "base_uri": "https://localhost:8080/",
          "height": 449
        },
        "id": "9F57LbykpqiV",
        "outputId": "f364c0cc-d489-4e65-8cf1-3a1c855711f5"
      },
      "outputs": [
        {
          "output_type": "display_data",
          "data": {
            "text/plain": [
              "<Figure size 640x480 with 1 Axes>"
            ],
            "image/png": "[encoded data removed]"
          },
          "metadata": {}
        }
      ],
      "source": [
        "sns.histplot(df['H/D'], label='salaries',kde=True)\n",
        "plt.legend()\n",
        "plt.show()"
      ]
    },
    {
      "cell_type": "code",
      "execution_count": 47,
      "metadata": {
        "id": "Ywkmy5qwpzAD"
      },
      "outputs": [],
      "source": [
        "df.drop(df[df['H/D'].values>15645.43].index , inplace =True)"
      ]
    },
    {
      "cell_type": "code",
      "execution_count": 48,
      "metadata": {
        "colab": {
          "base_uri": "https://localhost:8080/",
          "height": 449
        },
        "id": "esQmzyNXqTjR",
        "outputId": "febacc0f-3e0f-40b1-ef10-6722f5aa1601"
      },
      "outputs": [
        {
          "output_type": "display_data",
          "data": {
            "text/plain": [
              "<Figure size 640x480 with 1 Axes>"
            ],
            "image/png": "[encoded data removed]"
          },
          "metadata": {}
        }
      ],
      "source": [
        "sns.histplot(df['H/D'], label='salaries',kde=True)\n",
        "plt.legend()\n",
        "plt.show()\n"
      ]
    },
    {
      "cell_type": "code",
      "execution_count": 18,
      "metadata": {
        "colab": {
          "base_uri": "https://localhost:8080/"
        },
        "id": "7ySlT2XTUshO",
        "outputId": "fa9ea01e-e310-4c81-9b76-8fce8e2a7421"
      },
      "outputs": [
        {
          "output_type": "execute_result",
          "data": {
            "text/plain": [
              "Year                    int64\n",
              "OGC                     int64\n",
              "OG                     object\n",
              "DC                     object\n",
              "Dept                   object\n",
              "UC                      int64\n",
              "Union                  object\n",
              "JF                     object\n",
              "Job                    object\n",
              "EI                      int64\n",
              "Salaries                int64\n",
              "Overtime                int64\n",
              "H/D                   float64\n",
              "YT                     object\n",
              "Total_Compensation      int64\n",
              "dtype: object"
            ]
          },
          "metadata": {},
          "execution_count": 18
        }
      ],
      "source": [
        "df.dtypes"
      ]
    },
    {
      "cell_type": "code",
      "execution_count": 49,
      "metadata": {
        "colab": {
          "base_uri": "https://localhost:8080/"
        },
        "id": "h5-3uTqOU50b",
        "outputId": "20dc07e4-062a-4d25-ddff-7e0d5e88abf2"
      },
      "outputs": [
        {
          "output_type": "execute_result",
          "data": {
            "text/plain": [
              "(7, 7)"
            ]
          },
          "metadata": {},
          "execution_count": 49
        }
      ],
      "source": [
        "df['OGC'].nunique(),df['OG'].nunique()"
      ]
    },
    {
      "cell_type": "code",
      "execution_count": 50,
      "metadata": {
        "id": "H86S_sD-U-oj"
      },
      "outputs": [],
      "source": [
        "df.drop('OG',axis=1,inplace=True)"
      ]
    },
    {
      "cell_type": "code",
      "execution_count": 51,
      "metadata": {
        "colab": {
          "base_uri": "https://localhost:8080/"
        },
        "id": "iXY0iQdXUV8n",
        "outputId": "1988a083-d355-4112-8e40-e4a6b6e23ade"
      },
      "outputs": [
        {
          "output_type": "execute_result",
          "data": {
            "text/plain": [
              "(54, 54)"
            ]
          },
          "metadata": {},
          "execution_count": 51
        }
      ],
      "source": [
        "df['DC'].nunique(),df['Dept'].nunique()"
      ]
    },
    {
      "cell_type": "code",
      "execution_count": 52,
      "metadata": {
        "id": "Mco1N6l-ZCJ2"
      },
      "outputs": [],
      "source": [
        "df.drop('Dept',axis=1,inplace=True)"
      ]
    },
    {
      "cell_type": "code",
      "execution_count": 53,
      "metadata": {
        "colab": {
          "base_uri": "https://localhost:8080/"
        },
        "id": "81MrODpZUXEH",
        "outputId": "58f391c1-6363-4db7-e650-053fd1f59e8d"
      },
      "outputs": [
        {
          "output_type": "execute_result",
          "data": {
            "text/plain": [
              "(774, 69)"
            ]
          },
          "metadata": {},
          "execution_count": 53
        }
      ],
      "source": [
        "df['UC'].nunique(),df['Union'].nunique()"
      ]
    },
    {
      "cell_type": "code",
      "execution_count": 54,
      "metadata": {
        "colab": {
          "base_uri": "https://localhost:8080/"
        },
        "id": "jz7zGoVaYvJo",
        "outputId": "f09a1570-59e0-458b-b945-7b04875de86d"
      },
      "outputs": [
        {
          "output_type": "execute_result",
          "data": {
            "text/plain": [
              "(55, 1120)"
            ]
          },
          "metadata": {},
          "execution_count": 54
        }
      ],
      "source": [
        "df['JF'].nunique(),df['Job'].nunique()"
      ]
    },
    {
      "cell_type": "code",
      "execution_count": 55,
      "metadata": {
        "id": "gbyOUK7ZcvKO"
      },
      "outputs": [],
      "source": [
        "cat_colums=['JF','Job','DC','Union']\n",
        "for i in cat_colums:\n",
        "  fq=df[i].value_counts()/len(df)*100\n",
        "  df[f'{i}_enc']=df[i].map(fq)\n",
        "  df.drop(i,axis=1,inplace=True)"
      ]
    },
    {
      "cell_type": "code",
      "execution_count": 56,
      "metadata": {
        "id": "h4tHWF4XeIU1"
      },
      "outputs": [],
      "source": [
        "yt={'Calendar':0,'Fiscal':1}\n",
        "df['YT_enc']=df['YT'].map(yt)\n",
        "df.drop('YT',axis=1,inplace=True)"
      ]
    },
    {
      "cell_type": "code",
      "execution_count": 57,
      "metadata": {
        "colab": {
          "base_uri": "https://localhost:8080/",
          "height": 676
        },
        "id": "aYJlqxkqY3P_",
        "outputId": "7e547987-aa59-45de-fb40-5088c791a30c"
      },
      "outputs": [
        {
          "output_type": "execute_result",
          "data": {
            "text/plain": [
              "        Year  OGC   UC     EI  Salaries  Overtime           H/D  \\\n",
              "223091  2014    2  253  37629     63079     19810  13365.360000   \n",
              "124621  2015    2   39  22660     91450     18760  12380.820000   \n",
              "262484  2014    2   21   9327    158890         0  11787.430000   \n",
              "240867  2013    7  164  45088         0         0      0.000000   \n",
              "240270  2015    2  253  21415     33969      3958   6649.620000   \n",
              "220192  2013    4  791  42184    133609         0  12942.026480   \n",
              "233335  2014    2  200  38308     90654      5660  13255.780000   \n",
              "180163  2014    4  250  18487     38602       160   7239.286953   \n",
              "132789  2014    5  790   8001      8250         0   2173.810000   \n",
              "103982  2014    2   21  22807     85197         0  12512.550000   \n",
              "200609  2016    5  790  50394     50755       313  12139.220000   \n",
              "14684   2015    2   21  27713      1508         0    335.270000   \n",
              "17317   2013    1  798  40282    101005     19598  14032.420000   \n",
              "79267   2015    1  790   6210     70796     10041   9534.370000   \n",
              "278575  2013    3  790  21653     46435         0  12918.240000   \n",
              "139063  2014    4  790  30707     45186         0   7662.451053   \n",
              "62834   2013    3  790  29500     45999         0  11609.000000   \n",
              "226917  2014    2  790  30052     37587       162  13054.940000   \n",
              "273085  2014    5  790  15893      6391         0   1897.911961   \n",
              "114444  2013    2  253  13377     64134      6624  13371.600000   \n",
              "\n",
              "        Total_Compensation     JF_enc   Job_enc     DC_enc  Union_enc  YT_enc  \n",
              "223091              123235   8.399455  6.337970  14.984774   6.328263       0  \n",
              "124621              158066   6.092778  0.360239   1.458930   1.644442       1  \n",
              "262484              213149   3.018886  0.519865   2.364560  12.870440       1  \n",
              "240867                 601   0.666909  0.203488   0.094554   0.561210       1  \n",
              "240270               59801   8.399455  6.337970  14.984774   6.328263       0  \n",
              "220192              203645  10.535720  3.245742  22.057243   7.710975       0  \n",
              "233335              152494   8.399455  0.596083  14.984774   0.820064       0  \n",
              "180163               74714  10.535720  3.245742  22.057243   5.830688       0  \n",
              "132789               11144   2.771536  1.662778   5.524377  28.838500       1  \n",
              "103982              122868   3.018886  0.268202   4.777296  12.870440       1  \n",
              "200609               79740   2.771536  0.055726   5.524377  28.838500       1  \n",
              "14684                 1960   1.399969  0.231890  14.984774  12.870440       1  \n",
              "17317               173258   2.643907  1.297866   2.822228   2.548274       1  \n",
              "79267               119933   2.871123  0.414526   0.717601  28.838500       1  \n",
              "278575               73795   4.768667  0.763260   8.415274  28.838500       0  \n",
              "139063               66057   2.059328  0.084128  22.057243  28.838500       0  \n",
              "62834                71561   4.768667  0.763260   8.415274  28.838500       1  \n",
              "226917               63371   5.454630  1.744029   1.458930  28.838500       0  \n",
              "273085               10270   1.929541  0.704299   2.359886  28.838500       0  \n",
              "114444              106748   8.399455  6.337970  14.984774   6.328263       1  "
            ],
            "text/html": [
              "\n",
              "\n",
              "  <div id=\"df-6ecb38f8-bc95-4822-ab1e-0f5adac28e4c\">\n",
              "    <div class=\"colab-df-container\">\n",
              "      <div>\n",
              "<style scoped>\n",
              "    .dataframe tbody tr th:only-of-type {\n",
              "        vertical-align: middle;\n",
              "    }\n",
              "\n",
              "    .dataframe tbody tr th {\n",
              "        vertical-align: top;\n",
              "    }\n",
              "\n",
              "    .dataframe thead th {\n",
              "        text-align: right;\n",
              "    }\n",
              "</style>\n",
              "<table border=\"1\" class=\"dataframe\">\n",
              "  <thead>\n",
              "    <tr style=\"text-align: right;\">\n",
              "      <th></th>\n",
              "      <th>Year</th>\n",
              "      <th>OGC</th>\n",
              "      <th>UC</th>\n",
              "      <th>EI</th>\n",
              "      <th>Salaries</th>\n",
              "      <th>Overtime</th>\n",
              "      <th>H/D</th>\n",
              "      <th>Total_Compensation</th>\n",
              "      <th>JF_enc</th>\n",
              "      <th>Job_enc</th>\n",
              "      <th>DC_enc</th>\n",
              "      <th>Union_enc</th>\n",
              "      <th>YT_enc</th>\n",
              "    </tr>\n",
              "  </thead>\n",
              "  <tbody>\n",
              "    <tr>\n",
              "      <th>223091</th>\n",
              "      <td>2014</td>\n",
              "      <td>2</td>\n",
              "      <td>253</td>\n",
              "      <td>37629</td>\n",
              "      <td>63079</td>\n",
              "      <td>19810</td>\n",
              "      <td>13365.360000</td>\n",
              "      <td>123235</td>\n",
              "      <td>8.399455</td>\n",
              "      <td>6.337970</td>\n",
              "      <td>14.984774</td>\n",
              "      <td>6.328263</td>\n",
              "      <td>0</td>\n",
              "    </tr>\n",
              "    <tr>\n",
              "      <th>124621</th>\n",
              "      <td>2015</td>\n",
              "      <td>2</td>\n",
              "      <td>39</td>\n",
              "      <td>22660</td>\n",
              "      <td>91450</td>\n",
              "      <td>18760</td>\n",
              "      <td>12380.820000</td>\n",
              "      <td>158066</td>\n",
              "      <td>6.092778</td>\n",
              "      <td>0.360239</td>\n",
              "      <td>1.458930</td>\n",
              "      <td>1.644442</td>\n",
              "      <td>1</td>\n",
              "    </tr>\n",
              "    <tr>\n",
              "      <th>262484</th>\n",
              "      <td>2014</td>\n",
              "      <td>2</td>\n",
              "      <td>21</td>\n",
              "      <td>9327</td>\n",
              "      <td>158890</td>\n",
              "      <td>0</td>\n",
              "      <td>11787.430000</td>\n",
              "      <td>213149</td>\n",
              "      <td>3.018886</td>\n",
              "      <td>0.519865</td>\n",
              "      <td>2.364560</td>\n",
              "      <td>12.870440</td>\n",
              "      <td>1</td>\n",
              "    </tr>\n",
              "    <tr>\n",
              "      <th>240867</th>\n",
              "      <td>2013</td>\n",
              "      <td>7</td>\n",
              "      <td>164</td>\n",
              "      <td>45088</td>\n",
              "      <td>0</td>\n",
              "      <td>0</td>\n",
              "      <td>0.000000</td>\n",
              "      <td>601</td>\n",
              "      <td>0.666909</td>\n",
              "      <td>0.203488</td>\n",
              "      <td>0.094554</td>\n",
              "      <td>0.561210</td>\n",
              "      <td>1</td>\n",
              "    </tr>\n",
              "    <tr>\n",
              "      <th>240270</th>\n",
              "      <td>2015</td>\n",
              "      <td>2</td>\n",
              "      <td>253</td>\n",
              "      <td>21415</td>\n",
              "      <td>33969</td>\n",
              "      <td>3958</td>\n",
              "      <td>6649.620000</td>\n",
              "      <td>59801</td>\n",
              "      <td>8.399455</td>\n",
              "      <td>6.337970</td>\n",
              "      <td>14.984774</td>\n",
              "      <td>6.328263</td>\n",
              "      <td>0</td>\n",
              "    </tr>\n",
              "    <tr>\n",
              "      <th>220192</th>\n",
              "      <td>2013</td>\n",
              "      <td>4</td>\n",
              "      <td>791</td>\n",
              "      <td>42184</td>\n",
              "      <td>133609</td>\n",
              "      <td>0</td>\n",
              "      <td>12942.026480</td>\n",
              "      <td>203645</td>\n",
              "      <td>10.535720</td>\n",
              "      <td>3.245742</td>\n",
              "      <td>22.057243</td>\n",
              "      <td>7.710975</td>\n",
              "      <td>0</td>\n",
              "    </tr>\n",
              "    <tr>\n",
              "      <th>233335</th>\n",
              "      <td>2014</td>\n",
              "      <td>2</td>\n",
              "      <td>200</td>\n",
              "      <td>38308</td>\n",
              "      <td>90654</td>\n",
              "      <td>5660</td>\n",
              "      <td>13255.780000</td>\n",
              "      <td>152494</td>\n",
              "      <td>8.399455</td>\n",
              "      <td>0.596083</td>\n",
              "      <td>14.984774</td>\n",
              "      <td>0.820064</td>\n",
              "      <td>0</td>\n",
              "    </tr>\n",
              "    <tr>\n",
              "      <th>180163</th>\n",
              "      <td>2014</td>\n",
              "      <td>4</td>\n",
              "      <td>250</td>\n",
              "      <td>18487</td>\n",
              "      <td>38602</td>\n",
              "      <td>160</td>\n",
              "      <td>7239.286953</td>\n",
              "      <td>74714</td>\n",
              "      <td>10.535720</td>\n",
              "      <td>3.245742</td>\n",
              "      <td>22.057243</td>\n",
              "      <td>5.830688</td>\n",
              "      <td>0</td>\n",
              "    </tr>\n",
              "    <tr>\n",
              "      <th>132789</th>\n",
              "      <td>2014</td>\n",
              "      <td>5</td>\n",
              "      <td>790</td>\n",
              "      <td>8001</td>\n",
              "      <td>8250</td>\n",
              "      <td>0</td>\n",
              "      <td>2173.810000</td>\n",
              "      <td>11144</td>\n",
              "      <td>2.771536</td>\n",
              "      <td>1.662778</td>\n",
              "      <td>5.524377</td>\n",
              "      <td>28.838500</td>\n",
              "      <td>1</td>\n",
              "    </tr>\n",
              "    <tr>\n",
              "      <th>103982</th>\n",
              "      <td>2014</td>\n",
              "      <td>2</td>\n",
              "      <td>21</td>\n",
              "      <td>22807</td>\n",
              "      <td>85197</td>\n",
              "      <td>0</td>\n",
              "      <td>12512.550000</td>\n",
              "      <td>122868</td>\n",
              "      <td>3.018886</td>\n",
              "      <td>0.268202</td>\n",
              "      <td>4.777296</td>\n",
              "      <td>12.870440</td>\n",
              "      <td>1</td>\n",
              "    </tr>\n",
              "    <tr>\n",
              "      <th>200609</th>\n",
              "      <td>2016</td>\n",
              "      <td>5</td>\n",
              "      <td>790</td>\n",
              "      <td>50394</td>\n",
              "      <td>50755</td>\n",
              "      <td>313</td>\n",
              "      <td>12139.220000</td>\n",
              "      <td>79740</td>\n",
              "      <td>2.771536</td>\n",
              "      <td>0.055726</td>\n",
              "      <td>5.524377</td>\n",
              "      <td>28.838500</td>\n",
              "      <td>1</td>\n",
              "    </tr>\n",
              "    <tr>\n",
              "      <th>14684</th>\n",
              "      <td>2015</td>\n",
              "      <td>2</td>\n",
              "      <td>21</td>\n",
              "      <td>27713</td>\n",
              "      <td>1508</td>\n",
              "      <td>0</td>\n",
              "      <td>335.270000</td>\n",
              "      <td>1960</td>\n",
              "      <td>1.399969</td>\n",
              "      <td>0.231890</td>\n",
              "      <td>14.984774</td>\n",
              "      <td>12.870440</td>\n",
              "      <td>1</td>\n",
              "    </tr>\n",
              "    <tr>\n",
              "      <th>17317</th>\n",
              "      <td>2013</td>\n",
              "      <td>1</td>\n",
              "      <td>798</td>\n",
              "      <td>40282</td>\n",
              "      <td>101005</td>\n",
              "      <td>19598</td>\n",
              "      <td>14032.420000</td>\n",
              "      <td>173258</td>\n",
              "      <td>2.643907</td>\n",
              "      <td>1.297866</td>\n",
              "      <td>2.822228</td>\n",
              "      <td>2.548274</td>\n",
              "      <td>1</td>\n",
              "    </tr>\n",
              "    <tr>\n",
              "      <th>79267</th>\n",
              "      <td>2015</td>\n",
              "      <td>1</td>\n",
              "      <td>790</td>\n",
              "      <td>6210</td>\n",
              "      <td>70796</td>\n",
              "      <td>10041</td>\n",
              "      <td>9534.370000</td>\n",
              "      <td>119933</td>\n",
              "      <td>2.871123</td>\n",
              "      <td>0.414526</td>\n",
              "      <td>0.717601</td>\n",
              "      <td>28.838500</td>\n",
              "      <td>1</td>\n",
              "    </tr>\n",
              "    <tr>\n",
              "      <th>278575</th>\n",
              "      <td>2013</td>\n",
              "      <td>3</td>\n",
              "      <td>790</td>\n",
              "      <td>21653</td>\n",
              "      <td>46435</td>\n",
              "      <td>0</td>\n",
              "      <td>12918.240000</td>\n",
              "      <td>73795</td>\n",
              "      <td>4.768667</td>\n",
              "      <td>0.763260</td>\n",
              "      <td>8.415274</td>\n",
              "      <td>28.838500</td>\n",
              "      <td>0</td>\n",
              "    </tr>\n",
              "    <tr>\n",
              "      <th>139063</th>\n",
              "      <td>2014</td>\n",
              "      <td>4</td>\n",
              "      <td>790</td>\n",
              "      <td>30707</td>\n",
              "      <td>45186</td>\n",
              "      <td>0</td>\n",
              "      <td>7662.451053</td>\n",
              "      <td>66057</td>\n",
              "      <td>2.059328</td>\n",
              "      <td>0.084128</td>\n",
              "      <td>22.057243</td>\n",
              "      <td>28.838500</td>\n",
              "      <td>0</td>\n",
              "    </tr>\n",
              "    <tr>\n",
              "      <th>62834</th>\n",
              "      <td>2013</td>\n",
              "      <td>3</td>\n",
              "      <td>790</td>\n",
              "      <td>29500</td>\n",
              "      <td>45999</td>\n",
              "      <td>0</td>\n",
              "      <td>11609.000000</td>\n",
              "      <td>71561</td>\n",
              "      <td>4.768667</td>\n",
              "      <td>0.763260</td>\n",
              "      <td>8.415274</td>\n",
              "      <td>28.838500</td>\n",
              "      <td>1</td>\n",
              "    </tr>\n",
              "    <tr>\n",
              "      <th>226917</th>\n",
              "      <td>2014</td>\n",
              "      <td>2</td>\n",
              "      <td>790</td>\n",
              "      <td>30052</td>\n",
              "      <td>37587</td>\n",
              "      <td>162</td>\n",
              "      <td>13054.940000</td>\n",
              "      <td>63371</td>\n",
              "      <td>5.454630</td>\n",
              "      <td>1.744029</td>\n",
              "      <td>1.458930</td>\n",
              "      <td>28.838500</td>\n",
              "      <td>0</td>\n",
              "    </tr>\n",
              "    <tr>\n",
              "      <th>273085</th>\n",
              "      <td>2014</td>\n",
              "      <td>5</td>\n",
              "      <td>790</td>\n",
              "      <td>15893</td>\n",
              "      <td>6391</td>\n",
              "      <td>0</td>\n",
              "      <td>1897.911961</td>\n",
              "      <td>10270</td>\n",
              "      <td>1.929541</td>\n",
              "      <td>0.704299</td>\n",
              "      <td>2.359886</td>\n",
              "      <td>28.838500</td>\n",
              "      <td>0</td>\n",
              "    </tr>\n",
              "    <tr>\n",
              "      <th>114444</th>\n",
              "      <td>2013</td>\n",
              "      <td>2</td>\n",
              "      <td>253</td>\n",
              "      <td>13377</td>\n",
              "      <td>64134</td>\n",
              "      <td>6624</td>\n",
              "      <td>13371.600000</td>\n",
              "      <td>106748</td>\n",
              "      <td>8.399455</td>\n",
              "      <td>6.337970</td>\n",
              "      <td>14.984774</td>\n",
              "      <td>6.328263</td>\n",
              "      <td>1</td>\n",
              "    </tr>\n",
              "  </tbody>\n",
              "</table>\n",
              "</div>\n",
              "      <button class=\"colab-df-convert\" onclick=\"convertToInteractive('df-6ecb38f8-bc95-4822-ab1e-0f5adac28e4c')\"\n",
              "              title=\"Convert this dataframe to an interactive table.\"\n",
              "              style=\"display:none;\">\n",
              "\n",
              "  <svg xmlns=\"http://www.w3.org/2000/svg\" height=\"24px\"viewBox=\"0 0 24 24\"\n",
              "       width=\"24px\">\n",
              "    <path d=\"M0 0h24v24H0V0z\" fill=\"none\"/>\n",
              "    <path d=\"M18.56 5.44l.94 2.06.94-2.06 2.06-.94-2.06-.94-.94-2.06-.94 2.06-2.06.94zm-11 1L8.5 8.5l.94-2.06 2.06-.94-2.06-.94L8.5 2.5l-.94 2.06-2.06.94zm10 10l.94 2.06.94-2.06 2.06-.94-2.06-.94-.94-2.06-.94 2.06-2.06.94z\"/><path d=\"M17.41 7.96l-1.37-1.37c-.4-.4-.92-.59-1.43-.59-.52 0-1.04.2-1.43.59L10.3 9.45l-7.72 7.72c-.78.78-.78 2.05 0 2.83L4 21.41c.39.39.9.59 1.41.59.51 0 1.02-.2 1.41-.59l7.78-7.78 2.81-2.81c.8-.78.8-2.07 0-2.86zM5.41 20L4 18.59l7.72-7.72 1.47 1.35L5.41 20z\"/>\n",
              "  </svg>\n",
              "      </button>\n",
              "\n",
              "\n",
              "\n",
              "    <div id=\"df-737401ce-d2b1-444c-97b6-eb077b9c0926\">\n",
              "      <button class=\"colab-df-quickchart\" onclick=\"quickchart('df-737401ce-d2b1-444c-97b6-eb077b9c0926')\"\n",
              "              title=\"Suggest charts.\"\n",
              "              style=\"display:none;\">\n",
              "\n",
              "<svg xmlns=\"http://www.w3.org/2000/svg\" height=\"24px\"viewBox=\"0 0 24 24\"\n",
              "     width=\"24px\">\n",
              "    <g>\n",
              "        <path d=\"M19 3H5c-1.1 0-2 .9-2 2v14c0 1.1.9 2 2 2h14c1.1 0 2-.9 2-2V5c0-1.1-.9-2-2-2zM9 17H7v-7h2v7zm4 0h-2V7h2v10zm4 0h-2v-4h2v4z\"/>\n",
              "    </g>\n",
              "</svg>\n",
              "      </button>\n",
              "    </div>\n",
              "\n",
              "<style>\n",
              "  .colab-df-quickchart {\n",
              "    background-color: #E8F0FE;\n",
              "    border: none;\n",
              "    border-radius: 50%;\n",
              "    cursor: pointer;\n",
              "    display: none;\n",
              "    fill: #1967D2;\n",
              "    height: 32px;\n",
              "    padding: 0 0 0 0;\n",
              "    width: 32px;\n",
              "  }\n",
              "\n",
              "  .colab-df-quickchart:hover {\n",
              "    background-color: #E2EBFA;\n",
              "    box-shadow: 0px 1px 2px rgba(60, 64, 67, 0.3), 0px 1px 3px 1px rgba(60, 64, 67, 0.15);\n",
              "    fill: #174EA6;\n",
              "  }\n",
              "\n",
              "  [theme=dark] .colab-df-quickchart {\n",
              "    background-color: #3B4455;\n",
              "    fill: #D2E3FC;\n",
              "  }\n",
              "\n",
              "  [theme=dark] .colab-df-quickchart:hover {\n",
              "    background-color: #434B5C;\n",
              "    box-shadow: 0px 1px 3px 1px rgba(0, 0, 0, 0.15);\n",
              "    filter: drop-shadow(0px 1px 2px rgba(0, 0, 0, 0.3));\n",
              "    fill: #FFFFFF;\n",
              "  }\n",
              "</style>\n",
              "\n",
              "    <script>\n",
              "      async function quickchart(key) {\n",
              "        const containerElement = document.querySelector('#' + key);\n",
              "        const charts = await google.colab.kernel.invokeFunction(\n",
              "            'suggestCharts', [key], {});\n",
              "      }\n",
              "    </script>\n",
              "\n",
              "      <script>\n",
              "\n",
              "function displayQuickchartButton(domScope) {\n",
              "  let quickchartButtonEl =\n",
              "    domScope.querySelector('#df-737401ce-d2b1-444c-97b6-eb077b9c0926 button.colab-df-quickchart');\n",
              "  quickchartButtonEl.style.display =\n",
              "    google.colab.kernel.accessAllowed ? 'block' : 'none';\n",
              "}\n",
              "\n",
              "        displayQuickchartButton(document);\n",
              "      </script>\n",
              "      <style>\n",
              "    .colab-df-container {\n",
              "      display:flex;\n",
              "      flex-wrap:wrap;\n",
              "      gap: 12px;\n",
              "    }\n",
              "\n",
              "    .colab-df-convert {\n",
              "      background-color: #E8F0FE;\n",
              "      border: none;\n",
              "      border-radius: 50%;\n",
              "      cursor: pointer;\n",
              "      display: none;\n",
              "      fill: #1967D2;\n",
              "      height: 32px;\n",
              "      padding: 0 0 0 0;\n",
              "      width: 32px;\n",
              "    }\n",
              "\n",
              "    .colab-df-convert:hover {\n",
              "      background-color: #E2EBFA;\n",
              "      box-shadow: 0px 1px 2px rgba(60, 64, 67, 0.3), 0px 1px 3px 1px rgba(60, 64, 67, 0.15);\n",
              "      fill: #174EA6;\n",
              "    }\n",
              "\n",
              "    [theme=dark] .colab-df-convert {\n",
              "      background-color: #3B4455;\n",
              "      fill: #D2E3FC;\n",
              "    }\n",
              "\n",
              "    [theme=dark] .colab-df-convert:hover {\n",
              "      background-color: #434B5C;\n",
              "      box-shadow: 0px 1px 3px 1px rgba(0, 0, 0, 0.15);\n",
              "      filter: drop-shadow(0px 1px 2px rgba(0, 0, 0, 0.3));\n",
              "      fill: #FFFFFF;\n",
              "    }\n",
              "  </style>\n",
              "\n",
              "      <script>\n",
              "        const buttonEl =\n",
              "          document.querySelector('#df-6ecb38f8-bc95-4822-ab1e-0f5adac28e4c button.colab-df-convert');\n",
              "        buttonEl.style.display =\n",
              "          google.colab.kernel.accessAllowed ? 'block' : 'none';\n",
              "\n",
              "        async function convertToInteractive(key) {\n",
              "          const element = document.querySelector('#df-6ecb38f8-bc95-4822-ab1e-0f5adac28e4c');\n",
              "          const dataTable =\n",
              "            await google.colab.kernel.invokeFunction('convertToInteractive',\n",
              "                                                     [key], {});\n",
              "          if (!dataTable) return;\n",
              "\n",
              "          const docLinkHtml = 'Like what you see? Visit the ' +\n",
              "            '<a target=\"_blank\" href=https://colab.research.google.com/notebooks/data_table.ipynb>data table notebook</a>'\n",
              "            + ' to learn more about interactive tables.';\n",
              "          element.innerHTML = '';\n",
              "          dataTable['output_type'] = 'display_data';\n",
              "          await google.colab.output.renderOutput(dataTable, element);\n",
              "          const docLink = document.createElement('div');\n",
              "          docLink.innerHTML = docLinkHtml;\n",
              "          element.appendChild(docLink);\n",
              "        }\n",
              "      </script>\n",
              "    </div>\n",
              "  </div>\n"
            ]
          },
          "metadata": {},
          "execution_count": 57
        }
      ],
      "source": [
        "df.sample(20)"
      ]
    },
    {
      "cell_type": "code",
      "execution_count": 58,
      "metadata": {
        "colab": {
          "base_uri": "https://localhost:8080/",
          "height": 579
        },
        "id": "7ZOELn7jflnN",
        "outputId": "af8cc337-a7e5-467c-8f73-0e724d0a19ce"
      },
      "outputs": [
        {
          "output_type": "execute_result",
          "data": {
            "text/plain": [
              "<Axes: >"
            ]
          },
          "metadata": {},
          "execution_count": 58
        },
        {
          "output_type": "display_data",
          "data": {
            "text/plain": [
              "<Figure size 640x480 with 2 Axes>"
            ],
            "image/png": "[encoded data removed]"
          },
          "metadata": {}
        }
      ],
      "source": [
        "sns.heatmap(df.corr())"
      ]
    },
    {
      "cell_type": "code",
      "execution_count": 59,
      "metadata": {
        "id": "-FbVlksJgTE7"
      },
      "outputs": [],
      "source": [
        "x=df.drop('Total_Compensation',axis=1)\n",
        "y=df['Total_Compensation']"
      ]
    },
    {
      "cell_type": "code",
      "execution_count": 60,
      "metadata": {
        "id": "s2vgmGCLhCeD"
      },
      "outputs": [],
      "source": [
        "x_train , x_test , y_train , y_test = train_test_split(x,y, test_size=.20)"
      ]
    },
    {
      "cell_type": "code",
      "execution_count": 61,
      "metadata": {
        "colab": {
          "base_uri": "https://localhost:8080/"
        },
        "id": "nf5Sl5lghiXh",
        "outputId": "7ac50e18-ce57-4f17-dd15-63d1cae4400f"
      },
      "outputs": [
        {
          "output_type": "execute_result",
          "data": {
            "text/plain": [
              "((222519, 12), (55630, 12), (222519,), (55630,))"
            ]
          },
          "metadata": {},
          "execution_count": 61
        }
      ],
      "source": [
        "x_train.shape , x_test.shape , y_train.shape , y_test.shape"
      ]
    },
    {
      "cell_type": "code",
      "execution_count": 62,
      "metadata": {
        "colab": {
          "base_uri": "https://localhost:8080/"
        },
        "id": "EKRLp2GVhqKp",
        "outputId": "2c0fa3bb-b6e0-4ba9-fc86-88e034732f78"
      },
      "outputs": [
        {
          "output_type": "execute_result",
          "data": {
            "text/plain": [
              "527.3983314345999"
            ]
          },
          "metadata": {},
          "execution_count": 62
        }
      ],
      "source": [
        "np.sqrt(len(df))"
      ]
    },
    {
      "cell_type": "code",
      "execution_count": null,
      "metadata": {
        "id": "u8wzW7hZh5NA"
      },
      "outputs": [],
      "source": [
        "k=range(10,30)\n",
        "mse=[]\n",
        "for i in k:\n",
        "  knnr=KNeighborsRegressor(n_neighbors=i)\n",
        "  knnr.fit(x_train,y_train)\n",
        "  y_pred=knnr.predict(x_test)\n",
        "  mse.append(mean_squared_error(y_test,y_pred))\n",
        "\n"
      ]
    },
    {
      "cell_type": "code",
      "execution_count": null,
      "metadata": {
        "colab": {
          "base_uri": "https://localhost:8080/",
          "height": 465
        },
        "id": "XcqsbzeEljDI",
        "outputId": "b27e6b67-0b5d-4d18-b146-2c6b86e117fa"
      },
      "outputs": [
        {
          "data": {
            "image/png": "[encoded data removed]",
            "text/plain": [
              "<Figure size 640x480 with 1 Axes>"
            ]
          },
          "metadata": {},
          "output_type": "display_data"
        }
      ],
      "source": [
        "plt.plot(k,mse)\n",
        "plt.xlabel('k')\n",
        "plt.ylabel('Mse')\n",
        "plt.show()"
      ]
    },
    {
      "cell_type": "code",
      "execution_count": null,
      "metadata": {
        "colab": {
          "base_uri": "https://localhost:8080/"
        },
        "id": "ONJtLeealEwq",
        "outputId": "fd4cbeb3-96a6-446d-f991-cf0e9501fc12"
      },
      "outputs": [
        {
          "data": {
            "text/plain": [
              "19"
            ]
          },
          "execution_count": 246,
          "metadata": {},
          "output_type": "execute_result"
        }
      ],
      "source": [
        "k[np.argmin(mse)]"
      ]
    },
    {
      "cell_type": "code",
      "execution_count": null,
      "metadata": {
        "colab": {
          "base_uri": "https://localhost:8080/"
        },
        "id": "dT_595MJjFS5",
        "outputId": "6b720d75-6e7b-4893-ebe1-7d3e3535419f"
      },
      "outputs": [
        {
          "data": {
            "text/plain": [
              "47354094.656147726"
            ]
          },
          "execution_count": 250,
          "metadata": {},
          "output_type": "execute_result"
        }
      ],
      "source": [
        "knnr=KNeighborsRegressor(n_neighbors=19)\n",
        "knnr.fit(x_train,y_train)\n",
        "y_pred=knnr.predict(x_test)\n",
        "mean_squared_error(y_test,y_pred)"
      ]
    }
  ],
  "metadata": {
    "colab": {
      "provenance": []
    },
    "kernelspec": {
      "display_name": "Python 3",
      "name": "python3"
    },
    "language_info": {
      "name": "python"
    }
  },
  "nbformat": 4,
  "nbformat_minor": 0
}